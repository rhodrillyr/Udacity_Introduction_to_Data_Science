{
 "cells": [
  {
   "cell_type": "markdown",
   "id": "32fff956-e6e1-4883-ac83-bbf374890da7",
   "metadata": {},
   "source": [
    "**Data Import**"
   ]
  },
  {
   "cell_type": "code",
   "execution_count": 39,
   "id": "3d0eedbc-5c59-4a55-9c78-2c23428ba579",
   "metadata": {},
   "outputs": [],
   "source": [
    "import pandas as pd\n",
    "import numpy as np\n",
    "import matplotlib.pyplot as plt"
   ]
  },
  {
   "cell_type": "code",
   "execution_count": 2,
   "id": "9fe34d83-a49d-4f2d-a752-a9686f05a2c7",
   "metadata": {},
   "outputs": [],
   "source": [
    "seattle_calendar = pd.read_csv('//GBMLVFILFS01N02.rbsres01.net/home8$/Evanrdo/Personal/DS Nanodegree/seattle_calendar.csv')\n",
    "seattle_listings = pd.read_csv('//GBMLVFILFS01N02.rbsres01.net/home8$/Evanrdo/Personal/DS Nanodegree/seattle_listings.csv')\n",
    "seattle_reviews = pd.read_csv('//GBMLVFILFS01N02.rbsres01.net/home8$/Evanrdo/Personal/DS Nanodegree/seattle_reviews.csv')\n",
    "boston_calendar = pd.read_csv('//GBMLVFILFS01N02.rbsres01.net/home8$/Evanrdo/Personal/DS Nanodegree/boston_calendar.csv')\n",
    "boston_listings = pd.read_csv('//GBMLVFILFS01N02.rbsres01.net/home8$/Evanrdo/Personal/DS Nanodegree/boston_listings.csv')\n",
    "boston_reviews = pd.read_csv('//GBMLVFILFS01N02.rbsres01.net/home8$/Evanrdo/Personal/DS Nanodegree/boston_reviews.csv')"
   ]
  },
  {
   "cell_type": "markdown",
   "id": "352a0153-0b25-4bda-bca0-8d2900712491",
   "metadata": {},
   "source": [
    "**Data Understanding and Data Cleaning**"
   ]
  },
  {
   "cell_type": "code",
   "execution_count": 3,
   "id": "f0299a80-b84e-4200-b799-820ae4978bf4",
   "metadata": {},
   "outputs": [
    {
     "data": {
      "text/html": [
       "<div>\n",
       "<style scoped>\n",
       "    .dataframe tbody tr th:only-of-type {\n",
       "        vertical-align: middle;\n",
       "    }\n",
       "\n",
       "    .dataframe tbody tr th {\n",
       "        vertical-align: top;\n",
       "    }\n",
       "\n",
       "    .dataframe thead th {\n",
       "        text-align: right;\n",
       "    }\n",
       "</style>\n",
       "<table border=\"1\" class=\"dataframe\">\n",
       "  <thead>\n",
       "    <tr style=\"text-align: right;\">\n",
       "      <th></th>\n",
       "      <th>id</th>\n",
       "      <th>listing_url</th>\n",
       "      <th>scrape_id</th>\n",
       "      <th>last_scraped</th>\n",
       "      <th>name</th>\n",
       "      <th>summary</th>\n",
       "      <th>space</th>\n",
       "      <th>description</th>\n",
       "      <th>experiences_offered</th>\n",
       "      <th>neighborhood_overview</th>\n",
       "      <th>...</th>\n",
       "      <th>review_scores_value</th>\n",
       "      <th>requires_license</th>\n",
       "      <th>license</th>\n",
       "      <th>jurisdiction_names</th>\n",
       "      <th>instant_bookable</th>\n",
       "      <th>cancellation_policy</th>\n",
       "      <th>require_guest_profile_picture</th>\n",
       "      <th>require_guest_phone_verification</th>\n",
       "      <th>calculated_host_listings_count</th>\n",
       "      <th>reviews_per_month</th>\n",
       "    </tr>\n",
       "  </thead>\n",
       "  <tbody>\n",
       "    <tr>\n",
       "      <th>0</th>\n",
       "      <td>241032</td>\n",
       "      <td>https://www.airbnb.com/rooms/241032</td>\n",
       "      <td>20160104002432</td>\n",
       "      <td>2016-01-04</td>\n",
       "      <td>Stylish Queen Anne Apartment</td>\n",
       "      <td>NaN</td>\n",
       "      <td>Make your self at home in this charming one-be...</td>\n",
       "      <td>Make your self at home in this charming one-be...</td>\n",
       "      <td>none</td>\n",
       "      <td>NaN</td>\n",
       "      <td>...</td>\n",
       "      <td>10.0</td>\n",
       "      <td>f</td>\n",
       "      <td>NaN</td>\n",
       "      <td>WASHINGTON</td>\n",
       "      <td>f</td>\n",
       "      <td>moderate</td>\n",
       "      <td>f</td>\n",
       "      <td>f</td>\n",
       "      <td>2</td>\n",
       "      <td>4.07</td>\n",
       "    </tr>\n",
       "  </tbody>\n",
       "</table>\n",
       "<p>1 rows × 92 columns</p>\n",
       "</div>"
      ],
      "text/plain": [
       "       id                          listing_url       scrape_id last_scraped  \\\n",
       "0  241032  https://www.airbnb.com/rooms/241032  20160104002432   2016-01-04   \n",
       "\n",
       "                           name summary  \\\n",
       "0  Stylish Queen Anne Apartment     NaN   \n",
       "\n",
       "                                               space  \\\n",
       "0  Make your self at home in this charming one-be...   \n",
       "\n",
       "                                         description experiences_offered  \\\n",
       "0  Make your self at home in this charming one-be...                none   \n",
       "\n",
       "  neighborhood_overview  ... review_scores_value requires_license license  \\\n",
       "0                   NaN  ...                10.0                f     NaN   \n",
       "\n",
       "  jurisdiction_names instant_bookable cancellation_policy  \\\n",
       "0         WASHINGTON                f            moderate   \n",
       "\n",
       "   require_guest_profile_picture require_guest_phone_verification  \\\n",
       "0                              f                                f   \n",
       "\n",
       "  calculated_host_listings_count reviews_per_month  \n",
       "0                              2              4.07  \n",
       "\n",
       "[1 rows x 92 columns]"
      ]
     },
     "metadata": {},
     "output_type": "display_data"
    }
   ],
   "source": [
    "display(seattle_listings.head(1))"
   ]
  },
  {
   "cell_type": "code",
   "execution_count": 4,
   "id": "640e1154-5d9a-4070-9d0d-c56b45f70eee",
   "metadata": {},
   "outputs": [
    {
     "data": {
      "text/plain": [
       "3818"
      ]
     },
     "metadata": {},
     "output_type": "display_data"
    },
    {
     "data": {
      "text/plain": [
       "3585"
      ]
     },
     "metadata": {},
     "output_type": "display_data"
    }
   ],
   "source": [
    "display(len(seattle_listings['id'].unique().tolist()))\n",
    "display(len(boston_listings['id'].unique().tolist()))"
   ]
  },
  {
   "cell_type": "markdown",
   "id": "0e42ce20-1737-44fb-8b14-fcd856cd8cf2",
   "metadata": {},
   "source": [
    "Roughly around the same amount of listings in both cities."
   ]
  },
  {
   "cell_type": "code",
   "execution_count": 5,
   "id": "b38184d5-3455-4021-ab70-4d5f58ba402a",
   "metadata": {},
   "outputs": [
    {
     "data": {
      "text/plain": [
       "Index(['id', 'listing_url', 'scrape_id', 'last_scraped', 'name', 'summary',\n",
       "       'space', 'description', 'experiences_offered', 'neighborhood_overview',\n",
       "       'notes', 'transit', 'thumbnail_url', 'medium_url', 'picture_url',\n",
       "       'xl_picture_url', 'host_id', 'host_url', 'host_name', 'host_since',\n",
       "       'host_location', 'host_about', 'host_response_time',\n",
       "       'host_response_rate', 'host_acceptance_rate', 'host_is_superhost',\n",
       "       'host_thumbnail_url', 'host_picture_url', 'host_neighbourhood',\n",
       "       'host_listings_count', 'host_total_listings_count',\n",
       "       'host_verifications', 'host_has_profile_pic', 'host_identity_verified',\n",
       "       'street', 'neighbourhood', 'neighbourhood_cleansed',\n",
       "       'neighbourhood_group_cleansed', 'city', 'state', 'zipcode', 'market',\n",
       "       'smart_location', 'country_code', 'country', 'latitude', 'longitude',\n",
       "       'is_location_exact', 'property_type', 'room_type', 'accommodates',\n",
       "       'bathrooms', 'bedrooms', 'beds', 'bed_type', 'amenities', 'square_feet',\n",
       "       'price', 'weekly_price', 'monthly_price', 'security_deposit',\n",
       "       'cleaning_fee', 'guests_included', 'extra_people', 'minimum_nights',\n",
       "       'maximum_nights', 'calendar_updated', 'has_availability',\n",
       "       'availability_30', 'availability_60', 'availability_90',\n",
       "       'availability_365', 'calendar_last_scraped', 'number_of_reviews',\n",
       "       'first_review', 'last_review', 'review_scores_rating',\n",
       "       'review_scores_accuracy', 'review_scores_cleanliness',\n",
       "       'review_scores_checkin', 'review_scores_communication',\n",
       "       'review_scores_location', 'review_scores_value', 'requires_license',\n",
       "       'license', 'jurisdiction_names', 'instant_bookable',\n",
       "       'cancellation_policy', 'require_guest_profile_picture',\n",
       "       'require_guest_phone_verification', 'calculated_host_listings_count',\n",
       "       'reviews_per_month'],\n",
       "      dtype='object')"
      ]
     },
     "metadata": {},
     "output_type": "display_data"
    }
   ],
   "source": [
    "display(seattle_listings.columns)"
   ]
  },
  {
   "cell_type": "code",
   "execution_count": 6,
   "id": "c621f5fb-c403-4964-8908-beb49f47e8f7",
   "metadata": {},
   "outputs": [
    {
     "data": {
      "text/html": [
       "<div>\n",
       "<style scoped>\n",
       "    .dataframe tbody tr th:only-of-type {\n",
       "        vertical-align: middle;\n",
       "    }\n",
       "\n",
       "    .dataframe tbody tr th {\n",
       "        vertical-align: top;\n",
       "    }\n",
       "\n",
       "    .dataframe thead th {\n",
       "        text-align: right;\n",
       "    }\n",
       "</style>\n",
       "<table border=\"1\" class=\"dataframe\">\n",
       "  <thead>\n",
       "    <tr style=\"text-align: right;\">\n",
       "      <th></th>\n",
       "      <th>listing_id</th>\n",
       "      <th>date</th>\n",
       "      <th>available</th>\n",
       "      <th>price</th>\n",
       "    </tr>\n",
       "  </thead>\n",
       "  <tbody>\n",
       "    <tr>\n",
       "      <th>0</th>\n",
       "      <td>241032</td>\n",
       "      <td>2016-01-04</td>\n",
       "      <td>t</td>\n",
       "      <td>$85.00</td>\n",
       "    </tr>\n",
       "  </tbody>\n",
       "</table>\n",
       "</div>"
      ],
      "text/plain": [
       "   listing_id        date available   price\n",
       "0      241032  2016-01-04         t  $85.00"
      ]
     },
     "metadata": {},
     "output_type": "display_data"
    }
   ],
   "source": [
    "display(seattle_calendar.head(1))"
   ]
  },
  {
   "cell_type": "code",
   "execution_count": 7,
   "id": "a5597a34-0d6a-4e47-a1fe-b31ba5c7aaca",
   "metadata": {},
   "outputs": [
    {
     "data": {
      "text/plain": [
       "'2016-01-04'"
      ]
     },
     "metadata": {},
     "output_type": "display_data"
    },
    {
     "data": {
      "text/plain": [
       "'2017-01-02'"
      ]
     },
     "metadata": {},
     "output_type": "display_data"
    },
    {
     "data": {
      "text/plain": [
       "'2016-09-06'"
      ]
     },
     "metadata": {},
     "output_type": "display_data"
    },
    {
     "data": {
      "text/plain": [
       "'2017-09-05'"
      ]
     },
     "metadata": {},
     "output_type": "display_data"
    }
   ],
   "source": [
    "display(seattle_calendar['date'].min())\n",
    "display(seattle_calendar['date'].max())\n",
    "display(boston_calendar['date'].min())\n",
    "display(boston_calendar['date'].max())"
   ]
  },
  {
   "cell_type": "markdown",
   "id": "9c29efa2-784c-4a48-bbc9-f28babff9277",
   "metadata": {},
   "source": [
    "The date period for the two cities are not equal, we should therefore be cautious when comparing the data."
   ]
  },
  {
   "cell_type": "code",
   "execution_count": 8,
   "id": "2c563467-8a01-44b1-9ba1-e86d3714b465",
   "metadata": {},
   "outputs": [
    {
     "data": {
      "text/plain": [
       "0.0"
      ]
     },
     "metadata": {},
     "output_type": "display_data"
    },
    {
     "data": {
      "text/plain": [
       "0.32938998399793334"
      ]
     },
     "metadata": {},
     "output_type": "display_data"
    },
    {
     "data": {
      "text/plain": [
       "0.0"
      ]
     },
     "metadata": {},
     "output_type": "display_data"
    },
    {
     "data": {
      "text/plain": [
       "0.5087157820748879"
      ]
     },
     "metadata": {},
     "output_type": "display_data"
    }
   ],
   "source": [
    "display(seattle_calendar['available'].isna().mean())\n",
    "display(seattle_calendar['price'].isna().mean())\n",
    "display(boston_calendar['available'].isna().mean())\n",
    "display(boston_calendar['price'].isna().mean())"
   ]
  },
  {
   "cell_type": "markdown",
   "id": "baef8248-8baf-47ec-b78e-891ac214b3b1",
   "metadata": {},
   "source": [
    "There's a lot of null 'price' rows, however these don't need to be drop if we're only exploring the 'available' columns for example."
   ]
  },
  {
   "cell_type": "code",
   "execution_count": 9,
   "id": "4f43a01a-c557-4bc8-affe-4fa7d9ff8633",
   "metadata": {},
   "outputs": [
    {
     "data": {
      "text/html": [
       "<div>\n",
       "<style scoped>\n",
       "    .dataframe tbody tr th:only-of-type {\n",
       "        vertical-align: middle;\n",
       "    }\n",
       "\n",
       "    .dataframe tbody tr th {\n",
       "        vertical-align: top;\n",
       "    }\n",
       "\n",
       "    .dataframe thead th {\n",
       "        text-align: right;\n",
       "    }\n",
       "</style>\n",
       "<table border=\"1\" class=\"dataframe\">\n",
       "  <thead>\n",
       "    <tr style=\"text-align: right;\">\n",
       "      <th></th>\n",
       "      <th>listing_id</th>\n",
       "      <th>id</th>\n",
       "      <th>date</th>\n",
       "      <th>reviewer_id</th>\n",
       "      <th>reviewer_name</th>\n",
       "      <th>comments</th>\n",
       "    </tr>\n",
       "  </thead>\n",
       "  <tbody>\n",
       "    <tr>\n",
       "      <th>0</th>\n",
       "      <td>7202016</td>\n",
       "      <td>38917982</td>\n",
       "      <td>2015-07-19</td>\n",
       "      <td>28943674</td>\n",
       "      <td>Bianca</td>\n",
       "      <td>Cute and cozy place. Perfect location to every...</td>\n",
       "    </tr>\n",
       "  </tbody>\n",
       "</table>\n",
       "</div>"
      ],
      "text/plain": [
       "   listing_id        id        date  reviewer_id reviewer_name  \\\n",
       "0     7202016  38917982  2015-07-19     28943674        Bianca   \n",
       "\n",
       "                                            comments  \n",
       "0  Cute and cozy place. Perfect location to every...  "
      ]
     },
     "metadata": {},
     "output_type": "display_data"
    }
   ],
   "source": [
    "display(seattle_reviews.head(1))"
   ]
  },
  {
   "cell_type": "code",
   "execution_count": 79,
   "id": "8360dd15-5bd3-42ac-8be9-b8b7894b73d3",
   "metadata": {},
   "outputs": [
    {
     "data": {
      "text/plain": [
       "comments\n",
       "The host canceled this reservation the day before arrival. This is an automated posting.    57\n",
       "The reservation was canceled the day before arrival. This is an automated posting.          48\n",
       "The host canceled this reservation 4 days before arrival. This is an automated posting.     22\n",
       "The reservation was canceled 2 days before arrival. This is an automated posting.           19\n",
       "The host canceled this reservation 2 days before arrival. This is an automated posting.     17\n",
       "Name: count, dtype: int64"
      ]
     },
     "metadata": {},
     "output_type": "display_data"
    }
   ],
   "source": [
    "display(seattle_reviews['comments'].value_counts().head())"
   ]
  },
  {
   "cell_type": "markdown",
   "id": "6e134f88-a0a9-4eca-a2b2-0ff2df49620c",
   "metadata": {},
   "source": [
    "Working with the reviews dataframe will mainly require a key word search to pull out the relevant comments."
   ]
  },
  {
   "cell_type": "markdown",
   "id": "e597cfbb-507b-41fe-a811-d0bca8899026",
   "metadata": {},
   "source": [
    "**Question 1 - Cost of AirBnbs**"
   ]
  },
  {
   "cell_type": "code",
   "execution_count": 10,
   "id": "07d65daf-e661-47e8-bff5-4a53176bcb08",
   "metadata": {},
   "outputs": [],
   "source": [
    "seattle_calendar_price = seattle_calendar.dropna(subset= [\"price\"])\n",
    "boston_calendar_price = boston_calendar.dropna(subset= [\"price\"])"
   ]
  },
  {
   "cell_type": "markdown",
   "id": "7eb5d308-9006-4902-9710-47760c4b1c79",
   "metadata": {},
   "source": [
    "As we're initially only looking at the price of these cities, it's best to drop the nulls."
   ]
  },
  {
   "cell_type": "code",
   "execution_count": 11,
   "id": "16fef0ba-b89d-43d0-b961-1263c1bd8a41",
   "metadata": {},
   "outputs": [
    {
     "name": "stderr",
     "output_type": "stream",
     "text": [
      "C:\\Users\\evanrdo\\AppData\\Local\\Temp\\ipykernel_14268\\152802929.py:1: SettingWithCopyWarning: \n",
      "A value is trying to be set on a copy of a slice from a DataFrame.\n",
      "Try using .loc[row_indexer,col_indexer] = value instead\n",
      "\n",
      "See the caveats in the documentation: https://pandas.pydata.org/pandas-docs/stable/user_guide/indexing.html#returning-a-view-versus-a-copy\n",
      "  seattle_calendar_price[\"price\"] = seattle_calendar_price[\"price\"].str.replace('$', '')\n",
      "C:\\Users\\evanrdo\\AppData\\Local\\Temp\\ipykernel_14268\\152802929.py:2: SettingWithCopyWarning: \n",
      "A value is trying to be set on a copy of a slice from a DataFrame.\n",
      "Try using .loc[row_indexer,col_indexer] = value instead\n",
      "\n",
      "See the caveats in the documentation: https://pandas.pydata.org/pandas-docs/stable/user_guide/indexing.html#returning-a-view-versus-a-copy\n",
      "  seattle_calendar_price[\"price\"] = pd.to_numeric(seattle_calendar_price[\"price\"], errors='coerce')\n"
     ]
    },
    {
     "data": {
      "text/plain": [
       "137.19222676140043"
      ]
     },
     "metadata": {},
     "output_type": "display_data"
    }
   ],
   "source": [
    "seattle_calendar_price[\"price\"] = seattle_calendar_price[\"price\"].str.replace('$', '')\n",
    "seattle_calendar_price[\"price\"] = pd.to_numeric(seattle_calendar_price[\"price\"], errors='coerce')\n",
    "display(seattle_calendar_price['price'].mean())"
   ]
  },
  {
   "cell_type": "code",
   "execution_count": 12,
   "id": "10e60a3e-6e21-4a9c-9639-74416a1edfce",
   "metadata": {},
   "outputs": [
    {
     "name": "stderr",
     "output_type": "stream",
     "text": [
      "C:\\Users\\evanrdo\\AppData\\Local\\Temp\\ipykernel_14268\\867018691.py:1: SettingWithCopyWarning: \n",
      "A value is trying to be set on a copy of a slice from a DataFrame.\n",
      "Try using .loc[row_indexer,col_indexer] = value instead\n",
      "\n",
      "See the caveats in the documentation: https://pandas.pydata.org/pandas-docs/stable/user_guide/indexing.html#returning-a-view-versus-a-copy\n",
      "  boston_calendar_price[\"price\"] = boston_calendar_price[\"price\"].str.replace('$', '')\n",
      "C:\\Users\\evanrdo\\AppData\\Local\\Temp\\ipykernel_14268\\867018691.py:2: SettingWithCopyWarning: \n",
      "A value is trying to be set on a copy of a slice from a DataFrame.\n",
      "Try using .loc[row_indexer,col_indexer] = value instead\n",
      "\n",
      "See the caveats in the documentation: https://pandas.pydata.org/pandas-docs/stable/user_guide/indexing.html#returning-a-view-versus-a-copy\n",
      "  boston_calendar_price[\"price\"] = pd.to_numeric(boston_calendar_price[\"price\"], errors='coerce')\n"
     ]
    },
    {
     "data": {
      "text/plain": [
       "192.45390955690283"
      ]
     },
     "metadata": {},
     "output_type": "display_data"
    }
   ],
   "source": [
    "boston_calendar_price[\"price\"] = boston_calendar_price[\"price\"].str.replace('$', '')\n",
    "boston_calendar_price[\"price\"] = pd.to_numeric(boston_calendar_price[\"price\"], errors='coerce')\n",
    "display(boston_calendar_price['price'].mean())"
   ]
  },
  {
   "cell_type": "markdown",
   "id": "4ff86fe0-0354-4fd3-bbf9-e95706b0f097",
   "metadata": {},
   "source": [
    "In order to work with the 'price' column, the format of the string needs to be changed to only include a number which would then allow us to convert the column type to numeric. At this point, we can then work with the column to decipher variables such as the mean value. We can see that the average cost of an AirBnb listing in Boston is more expensive than in Seattle."
   ]
  },
  {
   "cell_type": "markdown",
   "id": "0e3e92cf-14ed-4bc5-81c4-ca7bdcd3b0ed",
   "metadata": {},
   "source": [
    "**Question 2 - Peak Times**"
   ]
  },
  {
   "cell_type": "code",
   "execution_count": 13,
   "id": "5d5fd2b8-016f-4106-b04a-163e95da4c6b",
   "metadata": {},
   "outputs": [],
   "source": [
    "seattle_calendar[\"price\"] = seattle_calendar[\"price\"].str.replace('$', '')\n",
    "seattle_calendar[\"price\"] = pd.to_numeric(seattle_calendar[\"price\"], errors='coerce')"
   ]
  },
  {
   "cell_type": "code",
   "execution_count": 14,
   "id": "ce00e2df-321c-4d17-8c7b-cde432a24055",
   "metadata": {},
   "outputs": [],
   "source": [
    "boston_calendar[\"price\"] = boston_calendar[\"price\"].str.replace('$', '')\n",
    "boston_calendar[\"price\"] = pd.to_numeric(boston_calendar[\"price\"], errors='coerce')"
   ]
  },
  {
   "cell_type": "markdown",
   "id": "a6a56e06-fbcd-4655-96e9-1801fc95903f",
   "metadata": {},
   "source": [
    "As we're now concerned with the 'available' column, the null 'price' column do not need to be dropped as it doesn't affect the output. However, if we want to work with the 'price' column at all, it still needs to be converted to numeric."
   ]
  },
  {
   "cell_type": "code",
   "execution_count": 15,
   "id": "d3e5f7d5-d28d-4f31-8608-af46cbfedbba",
   "metadata": {},
   "outputs": [],
   "source": [
    "def booked(row):\n",
    "   if row['available'] == 't':\n",
    "      return 1\n",
    "   if row['available'] != 't':\n",
    "      return 0"
   ]
  },
  {
   "cell_type": "markdown",
   "id": "064dd5f7-4475-43bb-a268-f80cf0b729c1",
   "metadata": {},
   "source": [
    "As 'available' column is a boolean type, we create an additional column which provides the same data but in a numerical format. This then allows us to get insights."
   ]
  },
  {
   "cell_type": "code",
   "execution_count": 40,
   "id": "21862d7b-a783-4574-88a7-8c3de4cc6c55",
   "metadata": {},
   "outputs": [
    {
     "data": {
      "image/png": "[encoded data removed]",
      "text/plain": [
       "<Figure size 640x480 with 1 Axes>"
      ]
     },
     "metadata": {},
     "output_type": "display_data"
    }
   ],
   "source": [
    "seattle_calendar['booked'] = seattle_calendar.apply(booked, axis=1)\n",
    "popularity_by_date_seattle = seattle_calendar.groupby('date')['booked'].sum()\n",
    "popularity_by_date_seattle.plot(kind='line', rot=90);\n",
    "plt.title('Seattle')\n",
    "plt.xlabel(\"Date\")\n",
    "plt.ylabel(\"Number of Properties Booked\")\n",
    "plt.show()"
   ]
  },
  {
   "cell_type": "code",
   "execution_count": 41,
   "id": "05f8095f-9587-49e7-8568-38fd0e1da2fd",
   "metadata": {},
   "outputs": [
    {
     "data": {
      "image/png": "[encoded data removed]",
      "text/plain": [
       "<Figure size 640x480 with 1 Axes>"
      ]
     },
     "metadata": {},
     "output_type": "display_data"
    }
   ],
   "source": [
    "boston_calendar['booked'] = boston_calendar.apply(booked, axis=1)\n",
    "popularity_by_date_boston = boston_calendar.groupby('date')['booked'].sum()\n",
    "popularity_by_date_boston.plot(kind='line', rot=90);\n",
    "plt.title('Boston')\n",
    "plt.xlabel(\"Date\")\n",
    "plt.ylabel(\"Number of Properties Booked\")\n",
    "plt.show()"
   ]
  },
  {
   "cell_type": "markdown",
   "id": "afaf5437-7d9d-4d1d-b8c4-ed9d8e6d3f9f",
   "metadata": {},
   "source": [
    "By grouping the dataframe by date and summing the 'booked' column, this shows us how many listings are occupied per day. From this, we can calculate what is the peak times for both cities."
   ]
  },
  {
   "cell_type": "code",
   "execution_count": 43,
   "id": "29898ced-c5c1-49da-94dd-449f15b0af4a",
   "metadata": {},
   "outputs": [
    {
     "data": {
      "text/plain": [
       "date\n",
       "2017-01-01    2922\n",
       "Name: booked, dtype: int64"
      ]
     },
     "metadata": {},
     "output_type": "display_data"
    },
    {
     "data": {
      "text/plain": [
       "date\n",
       "2016-01-04    1735\n",
       "Name: booked, dtype: int64"
      ]
     },
     "metadata": {},
     "output_type": "display_data"
    }
   ],
   "source": [
    "display(popularity_by_date_seattle.sort_values(ascending=False).head(1))\n",
    "display(popularity_by_date_seattle.sort_values(ascending=True).head(1))"
   ]
  },
  {
   "cell_type": "code",
   "execution_count": 19,
   "id": "3013873b-f6cc-4eeb-b347-7f39ae293983",
   "metadata": {},
   "outputs": [],
   "source": [
    "seattle_max_book = seattle_calendar[seattle_calendar['date'] == '2017-01-01']\n",
    "seattle_min_book = seattle_calendar[seattle_calendar['date'] == '2016-01-04']"
   ]
  },
  {
   "cell_type": "code",
   "execution_count": 20,
   "id": "010b49e2-941c-416d-adda-da245d443ae1",
   "metadata": {},
   "outputs": [
    {
     "data": {
      "text/plain": [
       "date\n",
       "2016-12-04    2207\n",
       "Name: booked, dtype: int64"
      ]
     },
     "metadata": {},
     "output_type": "display_data"
    },
    {
     "data": {
      "text/plain": [
       "date\n",
       "2016-09-06    570\n",
       "Name: booked, dtype: int64"
      ]
     },
     "metadata": {},
     "output_type": "display_data"
    }
   ],
   "source": [
    "display(popularity_by_date_boston.sort_values(ascending=False).head(1))\n",
    "display(popularity_by_date_boston.sort_values(ascending=True).head(1))"
   ]
  },
  {
   "cell_type": "code",
   "execution_count": 21,
   "id": "9ec268a2-9db5-4a8a-8d6f-e89b6efa3480",
   "metadata": {},
   "outputs": [],
   "source": [
    "boston_max_book = boston_calendar[boston_calendar['date'] == '2016-12-04']\n",
    "boston_min_book = boston_calendar[boston_calendar['date'] == '2016-09-06']"
   ]
  },
  {
   "cell_type": "code",
   "execution_count": 22,
   "id": "3686b2ad-8d51-4f9d-b8f6-73a225565cb9",
   "metadata": {},
   "outputs": [
    {
     "data": {
      "text/plain": [
       "137.19222676140043"
      ]
     },
     "metadata": {},
     "output_type": "display_data"
    },
    {
     "data": {
      "text/plain": [
       "137.53664383561645"
      ]
     },
     "metadata": {},
     "output_type": "display_data"
    },
    {
     "data": {
      "text/plain": [
       "122.08587896253603"
      ]
     },
     "metadata": {},
     "output_type": "display_data"
    },
    {
     "data": {
      "text/plain": [
       "192.45390955690283"
      ]
     },
     "metadata": {},
     "output_type": "display_data"
    },
    {
     "data": {
      "text/plain": [
       "179.81326669695594"
      ]
     },
     "metadata": {},
     "output_type": "display_data"
    },
    {
     "data": {
      "text/plain": [
       "239.71001757469244"
      ]
     },
     "metadata": {},
     "output_type": "display_data"
    }
   ],
   "source": [
    "display(seattle_calendar['price'].mean())\n",
    "display(seattle_max_book['price'].mean())\n",
    "display(seattle_min_book['price'].mean())\n",
    "display(boston_calendar['price'].mean())\n",
    "display(boston_max_book['price'].mean())\n",
    "display(boston_min_book['price'].mean())"
   ]
  },
  {
   "cell_type": "markdown",
   "id": "259ef3d7-f084-4836-a529-213209d52e4d",
   "metadata": {},
   "source": [
    "By looking at the average 'price' value at the most popular and least popular date of booking, we can see if there's any shifting because of demand. Interestingly, it's cheaper to book Boston at the peak time relative to the yearly average. "
   ]
  },
  {
   "cell_type": "markdown",
   "id": "56b3d86c-19f0-421e-b2b3-e4f3c245fc59",
   "metadata": {},
   "source": [
    "**Question 3 - Value for money**"
   ]
  },
  {
   "cell_type": "code",
   "execution_count": 23,
   "id": "fa19a9d9-81e8-47d1-8500-a4252eed3a9d",
   "metadata": {},
   "outputs": [],
   "source": [
    "seattle_listings[\"price\"] = seattle_listings[\"price\"].str.replace('$', '')\n",
    "seattle_listings[\"price\"] = pd.to_numeric(seattle_listings[\"price\"], errors='coerce')\n",
    "seattle_listings[\"price_per_person\"] = seattle_listings[\"price\"] / seattle_listings[\"accommodates\"]\n",
    "seattle_listings[\"cleaning_fee\"] = seattle_listings[\"cleaning_fee\"].str.replace('$', '')\n",
    "seattle_listings[\"cleaning_fee\"] = pd.to_numeric(seattle_listings[\"cleaning_fee\"], errors='coerce')\n",
    "seattle_listings[\"cleaning_per_person\"] = seattle_listings[\"cleaning_fee\"] / seattle_listings[\"accommodates\"]\n",
    "seattle_listings[\"security_deposit\"] = seattle_listings[\"security_deposit\"].str.replace('$', '')\n",
    "seattle_listings[\"security_deposit\"] = pd.to_numeric(seattle_listings[\"security_deposit\"], errors='coerce')\n",
    "seattle_listings[\"security_per_person\"] = seattle_listings[\"security_deposit\"] / seattle_listings[\"accommodates\"]\n",
    "seattle_listings['cost_per_person'] = seattle_listings[\"price_per_person\"] + seattle_listings['cleaning_per_person'] + seattle_listings['security_per_person']"
   ]
  },
  {
   "cell_type": "code",
   "execution_count": 24,
   "id": "b4952148-277b-44fb-b6e0-211c9f123fb9",
   "metadata": {},
   "outputs": [],
   "source": [
    "boston_listings[\"price\"] = boston_listings[\"price\"].str.replace('$', '')\n",
    "boston_listings[\"price\"] = pd.to_numeric(boston_listings[\"price\"], errors='coerce')\n",
    "boston_listings[\"price_per_person\"] = boston_listings[\"price\"] / seattle_listings[\"accommodates\"]\n",
    "boston_listings[\"cleaning_fee\"] = boston_listings[\"cleaning_fee\"].str.replace('$', '')\n",
    "boston_listings[\"cleaning_fee\"] = pd.to_numeric(boston_listings[\"cleaning_fee\"], errors='coerce')\n",
    "boston_listings[\"cleaning_per_person\"] = boston_listings[\"cleaning_fee\"] / boston_listings[\"accommodates\"]\n",
    "boston_listings[\"security_deposit\"] = boston_listings[\"security_deposit\"].str.replace('$', '')\n",
    "boston_listings[\"security_deposit\"] = pd.to_numeric(boston_listings[\"security_deposit\"], errors='coerce')\n",
    "boston_listings[\"security_per_person\"] = boston_listings[\"security_deposit\"] / boston_listings[\"accommodates\"]\n",
    "boston_listings['cost_per_person'] = boston_listings[\"price_per_person\"] + boston_listings['cleaning_per_person'] + boston_listings['security_per_person']"
   ]
  },
  {
   "cell_type": "markdown",
   "id": "14437b52-f272-43da-8058-72c8feab4ace",
   "metadata": {},
   "source": [
    "When booking the listing, the cost is made up of the overall price, cleaning and deposit fee. As most people use AirBnb between multiple people, it's useful to see what this cost is at a per person basis."
   ]
  },
  {
   "cell_type": "code",
   "execution_count": 25,
   "id": "739d1541-59f3-4f44-902e-f3620038f45e",
   "metadata": {},
   "outputs": [
    {
     "data": {
      "text/plain": [
       "146.8128295607145"
      ]
     },
     "metadata": {},
     "output_type": "display_data"
    },
    {
     "data": {
      "text/plain": [
       "198.53066925092787"
      ]
     },
     "metadata": {},
     "output_type": "display_data"
    }
   ],
   "source": [
    "display(seattle_listings['cost_per_person'].mean())\n",
    "display(boston_listings['cost_per_person'].mean())"
   ]
  },
  {
   "cell_type": "code",
   "execution_count": 26,
   "id": "8758ef21-54db-4d51-94e3-71ac22c8ac50",
   "metadata": {},
   "outputs": [],
   "source": [
    "def value_for_money_seattle(row):\n",
    "   if (row['cost_per_person'] <= 146.8128295607145) & (row['review_scores_rating'] >= 90):\n",
    "      return 1\n",
    "   else:\n",
    "      return 0"
   ]
  },
  {
   "cell_type": "code",
   "execution_count": 27,
   "id": "4e0f792e-c4ca-498d-91c9-4133a78924c2",
   "metadata": {},
   "outputs": [
    {
     "data": {
      "text/plain": [
       "40.963855421686745"
      ]
     },
     "metadata": {},
     "output_type": "display_data"
    }
   ],
   "source": [
    "seattle_listings['value_for_money'] = seattle_listings.apply(value_for_money_seattle, axis=1)\n",
    "display((seattle_listings['value_for_money'].sum())/(seattle_listings.shape[0]/2) * 100)"
   ]
  },
  {
   "cell_type": "code",
   "execution_count": 28,
   "id": "6e9a533e-6fdc-41b2-8c8c-dca2a051e2ce",
   "metadata": {},
   "outputs": [],
   "source": [
    "def value_for_money_boston(row):\n",
    "   if (row['cost_per_person'] <= 198.53066925092787) & (row['review_scores_rating'] >= 90):\n",
    "      return 1\n",
    "   else:\n",
    "      return 0"
   ]
  },
  {
   "cell_type": "code",
   "execution_count": 29,
   "id": "1009d5c9-2747-4fde-b6a0-9893368f2c69",
   "metadata": {},
   "outputs": [
    {
     "data": {
      "text/plain": [
       "23.87726638772664"
      ]
     },
     "metadata": {},
     "output_type": "display_data"
    }
   ],
   "source": [
    "boston_listings['value_for_money'] = boston_listings.apply(value_for_money_boston, axis=1)\n",
    "display((boston_listings['value_for_money'].sum())/(boston_listings.shape[0]/2) * 100)"
   ]
  },
  {
   "cell_type": "markdown",
   "id": "39fdd4e3-cbf2-4554-954a-3450e346bab6",
   "metadata": {},
   "source": [
    "Once we know what the cost per person is, we can see what's the best budget option - i.e a listing which cheaper than the average but still provides a good review score. You're more likely to get a good budget option in Seattle as a 41% of listings under the average cost per person value still have a review score of over 90, as oppose to only 24% in Boston."
   ]
  },
  {
   "cell_type": "code",
   "execution_count": 75,
   "id": "2fe95203-b8e6-4db7-a983-4219f04c8287",
   "metadata": {},
   "outputs": [
    {
     "data": {
      "text/plain": [
       "0.931740775780511"
      ]
     },
     "metadata": {},
     "output_type": "display_data"
    }
   ],
   "source": [
    "seattle_listings['Satisfaction per Dollar'] = (seattle_listings['review_scores_rating'] / seattle_listings['cost_per_person'].mean())\n",
    "seattle_listings['Satisfaction per Dollar'] = (seattle_listings['Satisfaction per Dollar'] - seattle_listings['Satisfaction per Dollar'].min()) / (seattle_listings['Satisfaction per Dollar'].max() - seattle_listings['Satisfaction per Dollar'].min())\n",
    "display(seattle_listings['Satisfaction per Dollar'].mean())"
   ]
  },
  {
   "cell_type": "code",
   "execution_count": 76,
   "id": "dbdff575-017f-4421-b3e0-b736067dc5d6",
   "metadata": {},
   "outputs": [
    {
     "data": {
      "image/png": "[encoded data removed]",
      "text/plain": [
       "<Figure size 640x480 with 1 Axes>"
      ]
     },
     "metadata": {},
     "output_type": "display_data"
    }
   ],
   "source": [
    "plt.scatter(seattle_listings['cost_per_person'], seattle_listings['Satisfaction per Dollar'])\n",
    "plt.title('Value for money in Seattle')\n",
    "plt.xlabel(\"Cost per person ($)\")\n",
    "plt.ylabel(\"Satisfaction per Dollar\");\n",
    "plt.show()"
   ]
  },
  {
   "cell_type": "code",
   "execution_count": 77,
   "id": "1d8d2b3f-5ef5-4ae5-a905-551b6d3060b1",
   "metadata": {},
   "outputs": [
    {
     "data": {
      "text/plain": [
       "0.8989583333333333"
      ]
     },
     "metadata": {},
     "output_type": "display_data"
    }
   ],
   "source": [
    "boston_listings['Satisfaction per Dollar'] = (boston_listings['review_scores_rating'] / boston_listings['cost_per_person'].mean())\n",
    "boston_listings['Satisfaction per Dollar'] = (boston_listings['Satisfaction per Dollar'] - boston_listings['Satisfaction per Dollar'].min()) / (boston_listings['Satisfaction per Dollar'].max() - boston_listings['Satisfaction per Dollar'].min())\n",
    "display(boston_listings['Satisfaction per Dollar'].mean())"
   ]
  },
  {
   "cell_type": "code",
   "execution_count": 78,
   "id": "f1c49530-3493-4cda-bb6e-50ae6435554a",
   "metadata": {},
   "outputs": [
    {
     "data": {
      "image/png": "[encoded data removed]",
      "text/plain": [
       "<Figure size 640x480 with 1 Axes>"
      ]
     },
     "metadata": {},
     "output_type": "display_data"
    }
   ],
   "source": [
    "plt.scatter(boston_listings['cost_per_person'], boston_listings['Satisfaction per Dollar'])\n",
    "plt.title('Value for money in Boston')\n",
    "plt.xlabel(\"Cost per person ($)\")\n",
    "plt.ylabel(\"Satisfaction per Dollar\");\n",
    "plt.show()"
   ]
  },
  {
   "cell_type": "markdown",
   "id": "ab421eb1-840c-4799-851e-1264bcf80c45",
   "metadata": {},
   "source": [
    "On top of a budget option, we also want to look at where provides the best value for money, even if we're spending a bit more. Therefore, by dividing the 'review_scores_rating' with the mean value of 'cost_per_person', this gives us a new metric which measure the 'Satisfaction per Dollar' This metric could also be further sliced if we wanted to look at budget options but on the whole, better value for money is found in Seattle."
   ]
  },
  {
   "cell_type": "markdown",
   "id": "12d5d784-3325-432e-9569-38281628a7d2",
   "metadata": {},
   "source": [
    "**Question 4 - Reviews about location.**"
   ]
  },
  {
   "cell_type": "code",
   "execution_count": 30,
   "id": "1a202500-faed-46ab-9ad8-51e60173a990",
   "metadata": {},
   "outputs": [
    {
     "data": {
      "text/plain": [
       "3191"
      ]
     },
     "metadata": {},
     "output_type": "display_data"
    },
    {
     "data": {
      "text/plain": [
       "2745"
      ]
     },
     "metadata": {},
     "output_type": "display_data"
    }
   ],
   "source": [
    "display(len(seattle_reviews['listing_id'].unique().tolist()))\n",
    "seattle_listings_df = seattle_listings[seattle_listings['review_scores_rating'] >= 90]\n",
    "seattle_listings_list = seattle_listings_df['id'].unique().tolist()\n",
    "seattle_reviews_df = seattle_reviews[seattle_reviews['listing_id'].isin(seattle_listings_list)]\n",
    "display(len(seattle_reviews_df['listing_id'].unique().tolist()))"
   ]
  },
  {
   "cell_type": "code",
   "execution_count": 31,
   "id": "07441bac-6cea-4691-b683-68d83885888b",
   "metadata": {},
   "outputs": [
    {
     "data": {
      "text/plain": [
       "2345"
      ]
     },
     "metadata": {},
     "output_type": "display_data"
    },
    {
     "data": {
      "text/plain": [
       "85.42805100182149"
      ]
     },
     "metadata": {},
     "output_type": "display_data"
    }
   ],
   "source": [
    "seattle_comments = seattle_reviews_df[seattle_reviews_df['comments'].str.contains('location', na=False)]\n",
    "display(len(seattle_comments['listing_id'].unique().tolist()))\n",
    "display((len(seattle_comments['listing_id'].unique().tolist()))/(len(seattle_reviews_df['listing_id'].unique().tolist())) * 100)"
   ]
  },
  {
   "cell_type": "code",
   "execution_count": 32,
   "id": "401b221c-c8fd-40a7-aecb-ff9b007d9321",
   "metadata": {},
   "outputs": [
    {
     "data": {
      "text/plain": [
       "2829"
      ]
     },
     "metadata": {},
     "output_type": "display_data"
    },
    {
     "data": {
      "text/plain": [
       "2052"
      ]
     },
     "metadata": {},
     "output_type": "display_data"
    }
   ],
   "source": [
    "display(len(boston_reviews['listing_id'].unique().tolist()))\n",
    "boston_listings_df = boston_listings[boston_listings['review_scores_rating'] >= 90]\n",
    "boston_listings_list = boston_listings_df['id'].unique().tolist()\n",
    "boston_reviews_df = boston_reviews[boston_reviews['listing_id'].isin(boston_listings_list)]\n",
    "display(len(boston_reviews_df['listing_id'].unique().tolist()))"
   ]
  },
  {
   "cell_type": "code",
   "execution_count": 33,
   "id": "7467d525-bccc-4078-aab4-e9aece775ae9",
   "metadata": {},
   "outputs": [
    {
     "data": {
      "text/plain": [
       "1644"
      ]
     },
     "metadata": {},
     "output_type": "display_data"
    },
    {
     "data": {
      "text/plain": [
       "80.11695906432749"
      ]
     },
     "metadata": {},
     "output_type": "display_data"
    }
   ],
   "source": [
    "boston_comments = boston_reviews_df[boston_reviews_df['comments'].str.contains('location', na=False)]\n",
    "display(len(boston_comments['listing_id'].unique().tolist()))\n",
    "display((len(boston_comments['listing_id'].unique().tolist()))/(len(boston_reviews_df['listing_id'].unique().tolist())) * 100)"
   ]
  },
  {
   "cell_type": "markdown",
   "id": "583c8f5c-0c13-4252-abc3-6ad60d669584",
   "metadata": {},
   "source": [
    "Of the listings which recieve a review score of higher than 90 and filtering the comments for the key word 'location', this shows the listings where location plays a role in determining the high review score. Of course, those doesn't mean that the comment regarding 'location' has to be positive, however it is likely due to the score rating and this is beneficial when planning a trip. As we can see, the percentage of listings is higher for Seattle compared to Boston."
   ]
  }
 ],
 "metadata": {
  "kernelspec": {
   "display_name": "Python 3 (ipykernel)",
   "language": "python",
   "name": "python3"
  },
  "language_info": {
   "codemirror_mode": {
    "name": "ipython",
    "version": 3
   },
   "file_extension": ".py",
   "mimetype": "text/x-python",
   "name": "python",
   "nbconvert_exporter": "python",
   "pygments_lexer": "ipython3",
   "version": "3.9.10"
  }
 },
 "nbformat": 4,
 "nbformat_minor": 5
}
