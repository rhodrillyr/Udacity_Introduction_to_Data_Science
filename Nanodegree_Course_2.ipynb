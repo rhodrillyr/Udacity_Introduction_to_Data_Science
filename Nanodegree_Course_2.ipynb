{
 "cells": [
  {
   "cell_type": "markdown",
   "id": "32fff956-e6e1-4883-ac83-bbf374890da7",
   "metadata": {},
   "source": [
    "**Business Understanding**\n",
    "\n",
    "The use of AirBnb as a means of staying a new city has certainly gained a lot of traction over the past decade or so. Their pricing, reviews left by previous customers and location are just a few factors which can heavly impact if other people choose to stay in the same place or not. We will be looking at the AirBnb data from 2016/17, specifically in Seattle and Boston, to try and determine which location provides the best value for money. To do this, we will answer four questions;\n",
    "\n",
    "- What is the mean cost of an AirBnb in either location?\n",
    "- Does the time of booking impact the cost?\n",
    "- Where can we get the best value for money?\n",
    "- Is there any other information we could abstract from the written reviews?"
   ]
  },
  {
   "cell_type": "markdown",
   "id": "c60b3be6-202e-465e-b8eb-9d756d760003",
   "metadata": {},
   "source": [
    "**Data Understanding**\n",
    "\n",
    "To answer our questions, we will be looking at 3 different files for each location - calendar, listings and reviews."
   ]
  },
  {
   "cell_type": "code",
   "execution_count": 255,
   "id": "3d0eedbc-5c59-4a55-9c78-2c23428ba579",
   "metadata": {},
   "outputs": [],
   "source": [
    "import pandas as pd\n",
    "import numpy as np\n",
    "import matplotlib.pyplot as plt\n",
    "\n",
    "#import the 3 files for each location\n",
    "seattle_calendar = pd.read_csv('//GBMLVFILFS01N02.rbsres01.net/home8$/Evanrdo/Personal/DS Nanodegree/seattle_calendar.csv')\n",
    "seattle_listings = pd.read_csv('//GBMLVFILFS01N02.rbsres01.net/home8$/Evanrdo/Personal/DS Nanodegree/seattle_listings.csv')\n",
    "seattle_reviews = pd.read_csv('//GBMLVFILFS01N02.rbsres01.net/home8$/Evanrdo/Personal/DS Nanodegree/seattle_reviews.csv')\n",
    "boston_calendar = pd.read_csv('//GBMLVFILFS01N02.rbsres01.net/home8$/Evanrdo/Personal/DS Nanodegree/boston_calendar.csv')\n",
    "boston_listings = pd.read_csv('//GBMLVFILFS01N02.rbsres01.net/home8$/Evanrdo/Personal/DS Nanodegree/boston_listings.csv')\n",
    "boston_reviews = pd.read_csv('//GBMLVFILFS01N02.rbsres01.net/home8$/Evanrdo/Personal/DS Nanodegree/boston_reviews.csv')"
   ]
  },
  {
   "cell_type": "code",
   "execution_count": 256,
   "id": "f0299a80-b84e-4200-b799-820ae4978bf4",
   "metadata": {},
   "outputs": [
    {
     "data": {
      "text/html": [
       "<div>\n",
       "<style scoped>\n",
       "    .dataframe tbody tr th:only-of-type {\n",
       "        vertical-align: middle;\n",
       "    }\n",
       "\n",
       "    .dataframe tbody tr th {\n",
       "        vertical-align: top;\n",
       "    }\n",
       "\n",
       "    .dataframe thead th {\n",
       "        text-align: right;\n",
       "    }\n",
       "</style>\n",
       "<table border=\"1\" class=\"dataframe\">\n",
       "  <thead>\n",
       "    <tr style=\"text-align: right;\">\n",
       "      <th></th>\n",
       "      <th>id</th>\n",
       "      <th>listing_url</th>\n",
       "      <th>scrape_id</th>\n",
       "      <th>last_scraped</th>\n",
       "      <th>name</th>\n",
       "      <th>summary</th>\n",
       "      <th>space</th>\n",
       "      <th>description</th>\n",
       "      <th>experiences_offered</th>\n",
       "      <th>neighborhood_overview</th>\n",
       "      <th>...</th>\n",
       "      <th>review_scores_value</th>\n",
       "      <th>requires_license</th>\n",
       "      <th>license</th>\n",
       "      <th>jurisdiction_names</th>\n",
       "      <th>instant_bookable</th>\n",
       "      <th>cancellation_policy</th>\n",
       "      <th>require_guest_profile_picture</th>\n",
       "      <th>require_guest_phone_verification</th>\n",
       "      <th>calculated_host_listings_count</th>\n",
       "      <th>reviews_per_month</th>\n",
       "    </tr>\n",
       "  </thead>\n",
       "  <tbody>\n",
       "    <tr>\n",
       "      <th>0</th>\n",
       "      <td>241032</td>\n",
       "      <td>https://www.airbnb.com/rooms/241032</td>\n",
       "      <td>20160104002432</td>\n",
       "      <td>2016-01-04</td>\n",
       "      <td>Stylish Queen Anne Apartment</td>\n",
       "      <td>NaN</td>\n",
       "      <td>Make your self at home in this charming one-be...</td>\n",
       "      <td>Make your self at home in this charming one-be...</td>\n",
       "      <td>none</td>\n",
       "      <td>NaN</td>\n",
       "      <td>...</td>\n",
       "      <td>10.0</td>\n",
       "      <td>f</td>\n",
       "      <td>NaN</td>\n",
       "      <td>WASHINGTON</td>\n",
       "      <td>f</td>\n",
       "      <td>moderate</td>\n",
       "      <td>f</td>\n",
       "      <td>f</td>\n",
       "      <td>2</td>\n",
       "      <td>4.07</td>\n",
       "    </tr>\n",
       "  </tbody>\n",
       "</table>\n",
       "<p>1 rows × 92 columns</p>\n",
       "</div>"
      ],
      "text/plain": [
       "       id                          listing_url       scrape_id last_scraped  \\\n",
       "0  241032  https://www.airbnb.com/rooms/241032  20160104002432   2016-01-04   \n",
       "\n",
       "                           name summary  \\\n",
       "0  Stylish Queen Anne Apartment     NaN   \n",
       "\n",
       "                                               space  \\\n",
       "0  Make your self at home in this charming one-be...   \n",
       "\n",
       "                                         description experiences_offered  \\\n",
       "0  Make your self at home in this charming one-be...                none   \n",
       "\n",
       "  neighborhood_overview  ... review_scores_value requires_license license  \\\n",
       "0                   NaN  ...                10.0                f     NaN   \n",
       "\n",
       "  jurisdiction_names instant_bookable cancellation_policy  \\\n",
       "0         WASHINGTON                f            moderate   \n",
       "\n",
       "   require_guest_profile_picture require_guest_phone_verification  \\\n",
       "0                              f                                f   \n",
       "\n",
       "  calculated_host_listings_count reviews_per_month  \n",
       "0                              2              4.07  \n",
       "\n",
       "[1 rows x 92 columns]"
      ]
     },
     "metadata": {},
     "output_type": "display_data"
    }
   ],
   "source": [
    "display(seattle_listings.head(1))"
   ]
  },
  {
   "cell_type": "code",
   "execution_count": 257,
   "id": "640e1154-5d9a-4070-9d0d-c56b45f70eee",
   "metadata": {},
   "outputs": [
    {
     "data": {
      "text/plain": [
       "3818"
      ]
     },
     "metadata": {},
     "output_type": "display_data"
    },
    {
     "data": {
      "text/plain": [
       "3585"
      ]
     },
     "metadata": {},
     "output_type": "display_data"
    }
   ],
   "source": [
    "#check the number of unique ids that is attached to both locations.\n",
    "display(len(seattle_listings['id'].unique().tolist()))\n",
    "display(len(boston_listings['id'].unique().tolist()))"
   ]
  },
  {
   "cell_type": "markdown",
   "id": "8160ea88-ee3a-4a1f-8e07-3451e4c7e20a",
   "metadata": {},
   "source": [
    "Examine the listings file. Roughly, the same amount of listings in both cities."
   ]
  },
  {
   "cell_type": "code",
   "execution_count": 258,
   "id": "c621f5fb-c403-4964-8908-beb49f47e8f7",
   "metadata": {},
   "outputs": [
    {
     "data": {
      "text/html": [
       "<div>\n",
       "<style scoped>\n",
       "    .dataframe tbody tr th:only-of-type {\n",
       "        vertical-align: middle;\n",
       "    }\n",
       "\n",
       "    .dataframe tbody tr th {\n",
       "        vertical-align: top;\n",
       "    }\n",
       "\n",
       "    .dataframe thead th {\n",
       "        text-align: right;\n",
       "    }\n",
       "</style>\n",
       "<table border=\"1\" class=\"dataframe\">\n",
       "  <thead>\n",
       "    <tr style=\"text-align: right;\">\n",
       "      <th></th>\n",
       "      <th>listing_id</th>\n",
       "      <th>date</th>\n",
       "      <th>available</th>\n",
       "      <th>price</th>\n",
       "    </tr>\n",
       "  </thead>\n",
       "  <tbody>\n",
       "    <tr>\n",
       "      <th>0</th>\n",
       "      <td>241032</td>\n",
       "      <td>2016-01-04</td>\n",
       "      <td>t</td>\n",
       "      <td>$85.00</td>\n",
       "    </tr>\n",
       "  </tbody>\n",
       "</table>\n",
       "</div>"
      ],
      "text/plain": [
       "   listing_id        date available   price\n",
       "0      241032  2016-01-04         t  $85.00"
      ]
     },
     "metadata": {},
     "output_type": "display_data"
    }
   ],
   "source": [
    "display(seattle_calendar.head(1))"
   ]
  },
  {
   "cell_type": "code",
   "execution_count": 259,
   "id": "a5597a34-0d6a-4e47-a1fe-b31ba5c7aaca",
   "metadata": {},
   "outputs": [
    {
     "data": {
      "text/plain": [
       "'2016-01-04'"
      ]
     },
     "metadata": {},
     "output_type": "display_data"
    },
    {
     "data": {
      "text/plain": [
       "'2017-01-02'"
      ]
     },
     "metadata": {},
     "output_type": "display_data"
    },
    {
     "data": {
      "text/plain": [
       "'2016-09-06'"
      ]
     },
     "metadata": {},
     "output_type": "display_data"
    },
    {
     "data": {
      "text/plain": [
       "'2017-09-05'"
      ]
     },
     "metadata": {},
     "output_type": "display_data"
    }
   ],
   "source": [
    "#check what the min and max date value is for both cities.\n",
    "display(seattle_calendar['date'].min())\n",
    "display(seattle_calendar['date'].max())\n",
    "display(boston_calendar['date'].min())\n",
    "display(boston_calendar['date'].max())"
   ]
  },
  {
   "cell_type": "markdown",
   "id": "a5c39b6e-3ab0-40fa-b1db-e8db12a58382",
   "metadata": {},
   "source": [
    "Examine the calendar file. We can see the price column is an integer, meaning numerical calculations cannot be done. Furthermore, the available column is categroical, which prevents the ability to do counts. We should also be aware that the date period for the two cities are not equal and therefore be cautious when comparing the data."
   ]
  },
  {
   "cell_type": "code",
   "execution_count": 260,
   "id": "4f43a01a-c557-4bc8-affe-4fa7d9ff8633",
   "metadata": {},
   "outputs": [
    {
     "data": {
      "text/html": [
       "<div>\n",
       "<style scoped>\n",
       "    .dataframe tbody tr th:only-of-type {\n",
       "        vertical-align: middle;\n",
       "    }\n",
       "\n",
       "    .dataframe tbody tr th {\n",
       "        vertical-align: top;\n",
       "    }\n",
       "\n",
       "    .dataframe thead th {\n",
       "        text-align: right;\n",
       "    }\n",
       "</style>\n",
       "<table border=\"1\" class=\"dataframe\">\n",
       "  <thead>\n",
       "    <tr style=\"text-align: right;\">\n",
       "      <th></th>\n",
       "      <th>listing_id</th>\n",
       "      <th>id</th>\n",
       "      <th>date</th>\n",
       "      <th>reviewer_id</th>\n",
       "      <th>reviewer_name</th>\n",
       "      <th>comments</th>\n",
       "    </tr>\n",
       "  </thead>\n",
       "  <tbody>\n",
       "    <tr>\n",
       "      <th>0</th>\n",
       "      <td>7202016</td>\n",
       "      <td>38917982</td>\n",
       "      <td>2015-07-19</td>\n",
       "      <td>28943674</td>\n",
       "      <td>Bianca</td>\n",
       "      <td>Cute and cozy place. Perfect location to every...</td>\n",
       "    </tr>\n",
       "  </tbody>\n",
       "</table>\n",
       "</div>"
      ],
      "text/plain": [
       "   listing_id        id        date  reviewer_id reviewer_name  \\\n",
       "0     7202016  38917982  2015-07-19     28943674        Bianca   \n",
       "\n",
       "                                            comments  \n",
       "0  Cute and cozy place. Perfect location to every...  "
      ]
     },
     "metadata": {},
     "output_type": "display_data"
    }
   ],
   "source": [
    "display(seattle_reviews.head(1))"
   ]
  },
  {
   "cell_type": "code",
   "execution_count": 261,
   "id": "8360dd15-5bd3-42ac-8be9-b8b7894b73d3",
   "metadata": {},
   "outputs": [
    {
     "data": {
      "text/plain": [
       "comments\n",
       "The host canceled this reservation the day before arrival. This is an automated posting.    57\n",
       "The reservation was canceled the day before arrival. This is an automated posting.          48\n",
       "The host canceled this reservation 4 days before arrival. This is an automated posting.     22\n",
       "The reservation was canceled 2 days before arrival. This is an automated posting.           19\n",
       "The host canceled this reservation 2 days before arrival. This is an automated posting.     17\n",
       "Name: count, dtype: int64"
      ]
     },
     "metadata": {},
     "output_type": "display_data"
    }
   ],
   "source": [
    "#what different type of comments do we see and how much diversity is there\n",
    "display(seattle_reviews['comments'].value_counts().head())"
   ]
  },
  {
   "cell_type": "markdown",
   "id": "3c8d7d50-577d-4792-acb0-bda7e5e7918f",
   "metadata": {},
   "source": [
    "Examine the reviews file. Working with the reviews dataframe will mainly require a key word search to pull out the relevant comments."
   ]
  },
  {
   "cell_type": "markdown",
   "id": "c49f44f9-fcda-490a-ae37-67655e47692e",
   "metadata": {},
   "source": [
    "**Data Preparation**\n",
    "\n",
    "Now we know what each files contains, we should alter some columns to allow for further analysis to be done in an effective way."
   ]
  },
  {
   "cell_type": "code",
   "execution_count": 262,
   "id": "2c563467-8a01-44b1-9ba1-e86d3714b465",
   "metadata": {},
   "outputs": [
    {
     "data": {
      "text/plain": [
       "0.0"
      ]
     },
     "metadata": {},
     "output_type": "display_data"
    },
    {
     "data": {
      "text/plain": [
       "0.32938998399793334"
      ]
     },
     "metadata": {},
     "output_type": "display_data"
    },
    {
     "data": {
      "text/plain": [
       "0.0"
      ]
     },
     "metadata": {},
     "output_type": "display_data"
    },
    {
     "data": {
      "text/plain": [
       "0.5087157820748879"
      ]
     },
     "metadata": {},
     "output_type": "display_data"
    }
   ],
   "source": [
    "# look at how many nulls in each column\n",
    "display(seattle_calendar['available'].isnull().mean())\n",
    "display(seattle_calendar['price'].isnull().mean())\n",
    "display(boston_calendar['available'].isnull().mean())\n",
    "display(boston_calendar['price'].isnull().mean())"
   ]
  },
  {
   "cell_type": "markdown",
   "id": "a541ebc2-1377-4684-9451-53c82d37a999",
   "metadata": {},
   "source": [
    "There's a lot of null 'price' rows, however, these don't need to be drop if we're only exploring the 'available' columns for example. This will be discussed further in later sections."
   ]
  },
  {
   "cell_type": "code",
   "execution_count": 263,
   "id": "40b22593-7809-4bea-9633-2cc92ac0c2df",
   "metadata": {},
   "outputs": [],
   "source": [
    "# to be able to do calculation involving the pricing, it needs to be converted to a float type.\n",
    "def price_col_to_numeric(df, col_name):\n",
    "    \"\"\"\n",
    "    takes a dataframe and converts a column from an integr type fo a float tyoe\n",
    "    ---\n",
    "    input:\n",
    "       df = dataframe\n",
    "       col_name = name of the column you want to convert to numerical.\n",
    "    output:\n",
    "       df with price column converted to float type.\n",
    "    \"\"\"\n",
    "    df[col_name] = df[col_name].str.replace('$', '')\n",
    "    df[col_name] = pd.to_numeric(df[col_name], errors='coerce')\n",
    "    return df"
   ]
  },
  {
   "cell_type": "code",
   "execution_count": 264,
   "id": "c00e65ee-8cc3-4f23-91fe-e65d74c3e8eb",
   "metadata": {},
   "outputs": [],
   "source": [
    "# apply this function to the relevant dataframes.\n",
    "seattle_calendar = price_col_to_numeric(seattle_calendar, 'price')\n",
    "boston_calendar = price_col_to_numeric(boston_calendar, 'price')"
   ]
  },
  {
   "cell_type": "markdown",
   "id": "00cf3479-409f-4b11-ad47-3d0c2025682e",
   "metadata": {},
   "source": [
    "The column 'available' is a categorical varible, therefore we create a new function which will create a new column, called 'available', which will be assigned the value 1 or 0 dependent if the letting is booked or not for that date. This allows for more in-depth analysis."
   ]
  },
  {
   "cell_type": "code",
   "execution_count": 265,
   "id": "174434f7-cc29-42b4-8ef6-0c1f59dab7b3",
   "metadata": {},
   "outputs": [],
   "source": [
    "def booked(row):\n",
    "    \"\"\"\n",
    "    Create a new numerical column.\n",
    "    ---\n",
    "    input:\n",
    "       row = name of the new column you want to create.\n",
    "    output:\n",
    "       df with new column.\n",
    "    \"\"\"\n",
    "    if row['available'] == 't':\n",
    "       return 1\n",
    "    if row['available'] != 't':\n",
    "       return 0"
   ]
  },
  {
   "cell_type": "code",
   "execution_count": 266,
   "id": "afbc4ef8-5b5c-42a6-989b-320f2c70092f",
   "metadata": {},
   "outputs": [],
   "source": [
    "# apply the booked function to the relevant dataframes.\n",
    "seattle_calendar['booked'] = seattle_calendar.apply(booked, axis=1)\n",
    "boston_calendar['booked'] = boston_calendar.apply(booked, axis=1)"
   ]
  },
  {
   "cell_type": "markdown",
   "id": "e5726792-2f96-4057-a8a7-087d7d871c0f",
   "metadata": {},
   "source": [
    "**Evaluation**"
   ]
  },
  {
   "cell_type": "markdown",
   "id": "e597cfbb-507b-41fe-a811-d0bca8899026",
   "metadata": {},
   "source": [
    "**Question 1 - What is the mean cost of an AirBnb in either location?**\n",
    "\n",
    "By taking an average across a 12 month period, we get a basic metric which gives us a high-level indication of price."
   ]
  },
  {
   "cell_type": "code",
   "execution_count": 267,
   "id": "07d65daf-e661-47e8-bff5-4a53176bcb08",
   "metadata": {},
   "outputs": [],
   "source": [
    "seattle_calendar_price = seattle_calendar.dropna(subset= [\"price\"])\n",
    "boston_calendar_price = boston_calendar.dropna(subset= [\"price\"])"
   ]
  },
  {
   "cell_type": "markdown",
   "id": "7eb5d308-9006-4902-9710-47760c4b1c79",
   "metadata": {},
   "source": [
    "As we're initially only looking at the price of these cities, it's best to drop the null values for this piece of analysis."
   ]
  },
  {
   "cell_type": "code",
   "execution_count": 268,
   "id": "16fef0ba-b89d-43d0-b961-1263c1bd8a41",
   "metadata": {},
   "outputs": [
    {
     "data": {
      "text/plain": [
       "137.19222676140043"
      ]
     },
     "metadata": {},
     "output_type": "display_data"
    },
    {
     "data": {
      "text/plain": [
       "192.45390955690283"
      ]
     },
     "metadata": {},
     "output_type": "display_data"
    }
   ],
   "source": [
    "display(seattle_calendar_price['price'].mean())\n",
    "display(boston_calendar_price['price'].mean())"
   ]
  },
  {
   "cell_type": "markdown",
   "id": "4ff86fe0-0354-4fd3-bbf9-e95706b0f097",
   "metadata": {},
   "source": [
    "We can see that the average cost of an AirBnb listing in Boston is more expensive than in Seattle."
   ]
  },
  {
   "cell_type": "markdown",
   "id": "0e3e92cf-14ed-4bc5-81c4-ca7bdcd3b0ed",
   "metadata": {},
   "source": [
    "**Question 2 - Does the time of booking impact the cost?**\n",
    "\n",
    "By grouping the dataframe by date, then summing the 'booked' column, this shows us how many listings are occupied per day. From this, we can calculate what is the peak times for both cities."
   ]
  },
  {
   "cell_type": "code",
   "execution_count": 269,
   "id": "21862d7b-a783-4574-88a7-8c3de4cc6c55",
   "metadata": {},
   "outputs": [
    {
     "data": {
      "image/png": "[encoded data removed]",
      "text/plain": [
       "<Figure size 640x480 with 1 Axes>"
      ]
     },
     "metadata": {},
     "output_type": "display_data"
    }
   ],
   "source": [
    "# group the data by date and see how many bookings occur each day. This data can then be plotted on a line graph to\n",
    "# aid the visualization of the output.\n",
    "popularity_by_date_seattle = seattle_calendar.groupby('date')['booked'].sum()\n",
    "popularity_by_date_seattle.plot(kind='line', rot=90);\n",
    "plt.title('Seattle')\n",
    "plt.xlabel(\"Date\")\n",
    "plt.ylabel(\"Number of Properties Booked\")\n",
    "plt.show()"
   ]
  },
  {
   "cell_type": "code",
   "execution_count": 270,
   "id": "05f8095f-9587-49e7-8568-38fd0e1da2fd",
   "metadata": {},
   "outputs": [
    {
     "data": {
      "image/png": "[encoded data removed]",
      "text/plain": [
       "<Figure size 640x480 with 1 Axes>"
      ]
     },
     "metadata": {},
     "output_type": "display_data"
    }
   ],
   "source": [
    "# plot the same graph as above with the Boston data.\n",
    "popularity_by_date_boston = boston_calendar.groupby('date')['booked'].sum()\n",
    "popularity_by_date_boston.plot(kind='line', rot=90);\n",
    "plt.title('Boston')\n",
    "plt.xlabel(\"Date\")\n",
    "plt.ylabel(\"Number of Properties Booked\")\n",
    "plt.show()"
   ]
  },
  {
   "cell_type": "code",
   "execution_count": 271,
   "id": "29898ced-c5c1-49da-94dd-449f15b0af4a",
   "metadata": {},
   "outputs": [
    {
     "data": {
      "text/plain": [
       "date\n",
       "2017-01-01    2922\n",
       "Name: booked, dtype: int64"
      ]
     },
     "metadata": {},
     "output_type": "display_data"
    },
    {
     "data": {
      "text/plain": [
       "date\n",
       "2016-01-04    1735\n",
       "Name: booked, dtype: int64"
      ]
     },
     "metadata": {},
     "output_type": "display_data"
    }
   ],
   "source": [
    "#we now take a look at the most popular and least popular dates.\n",
    "display(popularity_by_date_seattle.sort_values(ascending=False).head(1))\n",
    "display(popularity_by_date_seattle.sort_values(ascending=True).head(1))"
   ]
  },
  {
   "cell_type": "code",
   "execution_count": 272,
   "id": "3013873b-f6cc-4eeb-b347-7f39ae293983",
   "metadata": {},
   "outputs": [
    {
     "data": {
      "text/plain": [
       "137.19222676140043"
      ]
     },
     "metadata": {},
     "output_type": "display_data"
    },
    {
     "data": {
      "text/plain": [
       "137.53664383561645"
      ]
     },
     "metadata": {},
     "output_type": "display_data"
    },
    {
     "data": {
      "text/plain": [
       "122.08587896253603"
      ]
     },
     "metadata": {},
     "output_type": "display_data"
    }
   ],
   "source": [
    "#we can then compare the difference in mean prices across the dates.\n",
    "seattle_max_book = seattle_calendar[seattle_calendar['date'] == '2017-01-01']\n",
    "seattle_min_book = seattle_calendar[seattle_calendar['date'] == '2016-01-04']\n",
    "display(seattle_calendar['price'].mean())\n",
    "display(seattle_max_book['price'].mean())\n",
    "display(seattle_min_book['price'].mean())"
   ]
  },
  {
   "cell_type": "code",
   "execution_count": 273,
   "id": "010b49e2-941c-416d-adda-da245d443ae1",
   "metadata": {},
   "outputs": [
    {
     "data": {
      "text/plain": [
       "date\n",
       "2016-12-04    2207\n",
       "Name: booked, dtype: int64"
      ]
     },
     "metadata": {},
     "output_type": "display_data"
    },
    {
     "data": {
      "text/plain": [
       "date\n",
       "2016-09-06    570\n",
       "Name: booked, dtype: int64"
      ]
     },
     "metadata": {},
     "output_type": "display_data"
    }
   ],
   "source": [
    "#apply the same calculation to Boston.\n",
    "display(popularity_by_date_boston.sort_values(ascending=False).head(1))\n",
    "display(popularity_by_date_boston.sort_values(ascending=True).head(1))"
   ]
  },
  {
   "cell_type": "code",
   "execution_count": 274,
   "id": "9ec268a2-9db5-4a8a-8d6f-e89b6efa3480",
   "metadata": {},
   "outputs": [
    {
     "data": {
      "text/plain": [
       "192.45390955690283"
      ]
     },
     "metadata": {},
     "output_type": "display_data"
    },
    {
     "data": {
      "text/plain": [
       "179.81326669695594"
      ]
     },
     "metadata": {},
     "output_type": "display_data"
    },
    {
     "data": {
      "text/plain": [
       "239.71001757469244"
      ]
     },
     "metadata": {},
     "output_type": "display_data"
    }
   ],
   "source": [
    "boston_max_book = boston_calendar[boston_calendar['date'] == '2016-12-04']\n",
    "boston_min_book = boston_calendar[boston_calendar['date'] == '2016-09-06']\n",
    "display(boston_calendar['price'].mean())\n",
    "display(boston_max_book['price'].mean())\n",
    "display(boston_min_book['price'].mean())"
   ]
  },
  {
   "cell_type": "markdown",
   "id": "259ef3d7-f084-4836-a529-213209d52e4d",
   "metadata": {},
   "source": [
    "By looking at the average 'price' value at the most popular and least popular date of booking, we can see if there's any shifting because of demand. Interestingly, it's cheaper to book Boston at the peak time relative to the yearly average. "
   ]
  },
  {
   "cell_type": "markdown",
   "id": "56b3d86c-19f0-421e-b2b3-e4f3c245fc59",
   "metadata": {},
   "source": [
    "**Question 3 - Where can we get the best value for money?**\n",
    "\n",
    "In order to calculate the value for money, it requires looking at more than just the cost. We also expect high quality, therefore for this section, we'll need to combine overall costs with some reviews."
   ]
  },
  {
   "cell_type": "code",
   "execution_count": 275,
   "id": "b85e4232-479a-45a8-98a1-2e720334d5fb",
   "metadata": {},
   "outputs": [],
   "source": [
    "# Three columns in the listings dataframe contribute to the overall costs - price, cleaning fee and deposit. \n",
    "# So we start wth converting all these required columns to numerical types using the previously defined 'price_col_to_numeric' function.\n",
    "seattle_listings = price_col_to_numeric(seattle_listings, 'price')\n",
    "seattle_listings = price_col_to_numeric(seattle_listings, 'cleaning_fee')\n",
    "seattle_listings = price_col_to_numeric(seattle_listings, 'security_deposit')"
   ]
  },
  {
   "cell_type": "code",
   "execution_count": 276,
   "id": "ba1b205f-baa2-45a5-aacc-ae14720a69e8",
   "metadata": {},
   "outputs": [],
   "source": [
    "#do the same with Bosoton.\n",
    "boston_listings = price_col_to_numeric(boston_listings, 'price')\n",
    "boston_listings = price_col_to_numeric(boston_listings, 'cleaning_fee')\n",
    "boston_listings = price_col_to_numeric(boston_listings, 'security_deposit')"
   ]
  },
  {
   "cell_type": "code",
   "execution_count": 277,
   "id": "622c37bd-19f8-4ecc-8577-e08e0a17a0b4",
   "metadata": {},
   "outputs": [],
   "source": [
    "# To take into account the size of the letting, and the fact the sharing with other people \n",
    "# does reduce the per person price, we create a new column which accounts for this.\n",
    "def price_per_person(df, new_col_name, col):\n",
    "    \"\"\"\n",
    "    This function produces a new column which represents a value per person.\n",
    "    ---\n",
    "    input:\n",
    "       df = dataframe\n",
    "       new_col_name = name of the new column you want to create\n",
    "       col = name of the column you want to work out the per person value of.\n",
    "    output:\n",
    "       df with a new per person column.\n",
    "    \"\"\"\n",
    "    df[new_col_name] = df[col] / df[\"accommodates\"]\n",
    "    return df"
   ]
  },
  {
   "cell_type": "code",
   "execution_count": 278,
   "id": "216879ab-1e5d-49c1-9e51-9c893796c5a2",
   "metadata": {},
   "outputs": [],
   "source": [
    "#calculate the overall cost per person.\n",
    "seattle_listings = price_per_person(seattle_listings, 'price_per_person', 'price')\n",
    "seattle_listings = price_per_person(seattle_listings, 'cleaning_per_person', 'cleaning_fee')\n",
    "seattle_listings = price_per_person(seattle_listings, 'security_per_person', 'security_deposit')\n",
    "seattle_listings['cost_per_person'] = seattle_listings[\"price_per_person\"] + seattle_listings['cleaning_per_person'] + seattle_listings['security_per_person']"
   ]
  },
  {
   "cell_type": "code",
   "execution_count": 279,
   "id": "cc244b4e-514d-4eb0-a30a-cb3735bc2240",
   "metadata": {},
   "outputs": [],
   "source": [
    "#do the same with Bosoton.\n",
    "boston_listings = price_per_person(boston_listings, 'price_per_person', 'price')\n",
    "boston_listings = price_per_person(boston_listings, 'cleaning_per_person', 'cleaning_fee')\n",
    "boston_listings = price_per_person(boston_listings, 'security_per_person', 'security_deposit')\n",
    "boston_listings['cost_per_person'] = boston_listings[\"price_per_person\"] + boston_listings['cleaning_per_person'] + boston_listings['security_per_person']"
   ]
  },
  {
   "cell_type": "code",
   "execution_count": 280,
   "id": "739d1541-59f3-4f44-902e-f3620038f45e",
   "metadata": {},
   "outputs": [
    {
     "data": {
      "text/plain": [
       "146.8128295607145"
      ]
     },
     "metadata": {},
     "output_type": "display_data"
    },
    {
     "data": {
      "text/plain": [
       "183.63463421954802"
      ]
     },
     "metadata": {},
     "output_type": "display_data"
    }
   ],
   "source": [
    "display(seattle_listings['cost_per_person'].mean())\n",
    "display(boston_listings['cost_per_person'].mean())"
   ]
  },
  {
   "cell_type": "markdown",
   "id": "9ebe485b-1338-4cd3-8293-ad0f4c6952b1",
   "metadata": {},
   "source": [
    "Unsurprisingly, the cost per person is still cheaper in Seattle but it's good to check. We now need to take these costs and combine it with reviews to see where we can get goo budget options."
   ]
  },
  {
   "cell_type": "code",
   "execution_count": 281,
   "id": "8758ef21-54db-4d51-94e3-71ac22c8ac50",
   "metadata": {},
   "outputs": [],
   "source": [
    "# We create a new column, which indicates that if a letting is below the mean price for that city and the review score is still high,\n",
    "# we flag that as a good budget option and it gets given a value of 1. If this doesn't apply, it gets a value of 0.\n",
    "def value_for_money_seattle(row):\n",
    "    '''\n",
    "    Creates a new column if a property is considered a good budget option.\n",
    "    ---\n",
    "    input:\n",
    "       row = name of the new column you want to create.\n",
    "    output:\n",
    "       df with new column.\n",
    "    '''\n",
    "    if (row['cost_per_person'] <= 146.8128295607145) & (row['review_scores_rating'] >= 90):\n",
    "       return 1\n",
    "    else:\n",
    "       return 0"
   ]
  },
  {
   "cell_type": "code",
   "execution_count": 282,
   "id": "4e0f792e-c4ca-498d-91c9-4133a78924c2",
   "metadata": {},
   "outputs": [
    {
     "data": {
      "text/plain": [
       "40.963855421686745"
      ]
     },
     "metadata": {},
     "output_type": "display_data"
    }
   ],
   "source": [
    "#apply this new function to the dataframe and see how many budget options are classed as a good budget option.\n",
    "seattle_listings['value_for_money'] = seattle_listings.apply(value_for_money_seattle, axis=1)\n",
    "display((seattle_listings['value_for_money'].sum())/(seattle_listings.shape[0]/2) * 100)"
   ]
  },
  {
   "cell_type": "code",
   "execution_count": 283,
   "id": "6e9a533e-6fdc-41b2-8c8c-dca2a051e2ce",
   "metadata": {},
   "outputs": [],
   "source": [
    "def value_for_money_boston(row):\n",
    "    '''\n",
    "    Creates a new column if a property is considered a good budget option.\n",
    "    ---\n",
    "     input:\n",
    "       row = name of the new column you want to create.\n",
    "    output:\n",
    "       df with new column.\n",
    "    '''\n",
    "    if (row['cost_per_person'] <= 198.53066925092787) & (row['review_scores_rating'] >= 90):\n",
    "       return 1\n",
    "    else:\n",
    "       return 0"
   ]
  },
  {
   "cell_type": "code",
   "execution_count": 284,
   "id": "1009d5c9-2747-4fde-b6a0-9893368f2c69",
   "metadata": {},
   "outputs": [
    {
     "data": {
      "text/plain": [
       "27.726638772663875"
      ]
     },
     "metadata": {},
     "output_type": "display_data"
    }
   ],
   "source": [
    "# do the same thing with the Boston data.\n",
    "boston_listings['value_for_money'] = boston_listings.apply(value_for_money_boston, axis=1)\n",
    "display((boston_listings['value_for_money'].sum())/(boston_listings.shape[0]/2) * 100)"
   ]
  },
  {
   "cell_type": "markdown",
   "id": "39fdd4e3-cbf2-4554-954a-3450e346bab6",
   "metadata": {},
   "source": [
    "You're more likely to get a good budget option in Seattle as a 41% of listings under the average cost per person value still have a review score of over 90, as oppose to only 24% in Boston. On top of a budget option, we also want to look at where provides the best value for money, even if we're spending a bit more. Therefore, by dividing the 'review_scores_rating' with the mean value of 'cost_per_person', this gives us a new metric which measure the 'Satisfaction per Dollar'."
   ]
  },
  {
   "cell_type": "code",
   "execution_count": 285,
   "id": "893a3aac-42dd-42f6-bc82-cc3fdc01e6d7",
   "metadata": {},
   "outputs": [],
   "source": [
    "def satisfaction(df):\n",
    "    '''\n",
    "    Creates a new column to see where the best value per pound is based on previous reviews.\n",
    "    ---\n",
    "    input:\n",
    "       df = dataframe\n",
    "    output:\n",
    "       df with a new 'Satisfaction per Dollar' column.\n",
    "    '''\n",
    "    df['Satisfaction per Dollar'] = (df['review_scores_rating'] / df['cost_per_person'].mean())\n",
    "    df['Satisfaction per Dollar'] = (df['Satisfaction per Dollar'] - df['Satisfaction per Dollar'].min()) / (df['Satisfaction per Dollar'].max() - df['Satisfaction per Dollar'].min())\n",
    "    return df['Satisfaction per Dollar'].mean()"
   ]
  },
  {
   "cell_type": "code",
   "execution_count": 286,
   "id": "24634061-28de-462c-9389-98c3a7fb1509",
   "metadata": {},
   "outputs": [
    {
     "data": {
      "text/plain": [
       "0.931740775780511"
      ]
     },
     "metadata": {},
     "output_type": "display_data"
    },
    {
     "data": {
      "text/plain": [
       "0.8989583333333334"
      ]
     },
     "metadata": {},
     "output_type": "display_data"
    }
   ],
   "source": [
    "# apply this new function to both dataframes.\n",
    "display(satisfaction(seattle_listings))\n",
    "display(satisfaction(boston_listings))"
   ]
  },
  {
   "cell_type": "markdown",
   "id": "ad3f0033-c9aa-415f-8706-bbadb1053a17",
   "metadata": {},
   "source": [
    "This metric could also be further sliced if we wanted to look at only budget options but on the whole, better value for money is found in Seattle."
   ]
  },
  {
   "cell_type": "markdown",
   "id": "12d5d784-3325-432e-9569-38281628a7d2",
   "metadata": {},
   "source": [
    "**Question 4 - Is there any other information we could abstract from the written reviews?**\n",
    "\n",
    "Lastly, we know that the best location is Seattle when it comes to value for money. However, we want to check what the reviewers actually say about their experiences."
   ]
  },
  {
   "cell_type": "code",
   "execution_count": 287,
   "id": "3b277185-8a85-4de7-a22a-92511e8d8588",
   "metadata": {},
   "outputs": [],
   "source": [
    "# Firstly, we filter the reviews dataframe to only contain highly rated listings.\n",
    "def unique_reviews(df_listings, df_reviews):\n",
    "    \"\"\"\n",
    "    Filter the reviews dataframe based on the listings dataframe.\n",
    "    ---\n",
    "    input:\n",
    "       df_listings = the listings dataframe.\n",
    "       df_reviews - the reviews dataframe.\n",
    "    output:\n",
    "       df_reviews only containing the listings which has a rating of over 90.\n",
    "    \"\"\"\n",
    "    df_listings_90 = df_listings[df_listings['review_scores_rating'] >= 90]\n",
    "    df_listings_list = df_listings_90['id'].unique().tolist()\n",
    "    df_reviews = df_reviews[df_reviews['listing_id'].isin(df_listings_list)]\n",
    "    return df_reviews"
   ]
  },
  {
   "cell_type": "code",
   "execution_count": 288,
   "id": "1a202500-faed-46ab-9ad8-51e60173a990",
   "metadata": {},
   "outputs": [
    {
     "data": {
      "text/plain": [
       "3191"
      ]
     },
     "metadata": {},
     "output_type": "display_data"
    },
    {
     "data": {
      "text/plain": [
       "2745"
      ]
     },
     "metadata": {},
     "output_type": "display_data"
    }
   ],
   "source": [
    "# we look at the amount of listings which are rated above 90.\n",
    "display(len(seattle_reviews['listing_id'].unique().tolist()))\n",
    "seattle_reviews = unique_reviews(seattle_listings, seattle_reviews)\n",
    "display(len(seattle_reviews['listing_id'].unique().tolist()))"
   ]
  },
  {
   "cell_type": "code",
   "execution_count": 289,
   "id": "07441bac-6cea-4691-b683-68d83885888b",
   "metadata": {},
   "outputs": [
    {
     "data": {
      "text/plain": [
       "85.42805100182149"
      ]
     },
     "metadata": {},
     "output_type": "display_data"
    }
   ],
   "source": [
    "# We now further filter this dataframe looking only for reviews which mention the word 'location'.\n",
    "seattle_comments = seattle_reviews[seattle_reviews['comments'].str.contains('location', na=False)]\n",
    "display((len(seattle_comments['listing_id'].unique().tolist()))/(len(seattle_reviews['listing_id'].unique().tolist())) * 100)"
   ]
  },
  {
   "cell_type": "code",
   "execution_count": 290,
   "id": "401b221c-c8fd-40a7-aecb-ff9b007d9321",
   "metadata": {},
   "outputs": [
    {
     "data": {
      "text/plain": [
       "2829"
      ]
     },
     "metadata": {},
     "output_type": "display_data"
    },
    {
     "data": {
      "text/plain": [
       "2052"
      ]
     },
     "metadata": {},
     "output_type": "display_data"
    }
   ],
   "source": [
    "# do the same thing with the Boston data.\n",
    "display(len(boston_reviews['listing_id'].unique().tolist()))\n",
    "boston_reviews = unique_reviews(boston_listings, boston_reviews)\n",
    "display(len(boston_reviews['listing_id'].unique().tolist()))"
   ]
  },
  {
   "cell_type": "code",
   "execution_count": 291,
   "id": "7467d525-bccc-4078-aab4-e9aece775ae9",
   "metadata": {},
   "outputs": [
    {
     "data": {
      "text/plain": [
       "80.11695906432749"
      ]
     },
     "metadata": {},
     "output_type": "display_data"
    }
   ],
   "source": [
    "boston_comments = boston_reviews[boston_reviews['comments'].str.contains('location', na=False)]\n",
    "display((len(boston_comments['listing_id'].unique().tolist()))/(len(boston_reviews_df['listing_id'].unique().tolist())) * 100)"
   ]
  },
  {
   "cell_type": "markdown",
   "id": "583c8f5c-0c13-4252-abc3-6ad60d669584",
   "metadata": {},
   "source": [
    "Of the listings which recieve a review score of higher than 90 and filtering the comments for the key word 'location', this shows the listings where location plays a role in determining the high review score. Of course, those doesn't mean that the comment regarding 'location' has to be positive, however it is likely due to the score rating and this is beneficial when planning a trip. As we can see, the percentage of listings is higher for Seattle compared to Boston."
   ]
  },
  {
   "cell_type": "markdown",
   "id": "5a4d1e5a-de5b-4e57-bddb-520ace4570cf",
   "metadata": {},
   "source": [
    "**Evaluate the results**\n",
    "\n",
    "We can make four conclusions from this analysis;\n",
    "\n",
    "- The overall mean price is cheaper in Seattle.\n",
    "- It is better to visit Boston at its peak time, where a better deal is found in Seattle at the least busy period.\n",
    "- The budget options are rated higher in Seattle as well as better value for money.\n",
    "- Based on reviews, the locations of the listings in Seattle is ranked higher."
   ]
  }
 ],
 "metadata": {
  "kernelspec": {
   "display_name": "Python 3 (ipykernel)",
   "language": "python",
   "name": "python3"
  },
  "language_info": {
   "codemirror_mode": {
    "name": "ipython",
    "version": 3
   },
   "file_extension": ".py",
   "mimetype": "text/x-python",
   "name": "python",
   "nbconvert_exporter": "python",
   "pygments_lexer": "ipython3",
   "version": "3.9.10"
  }
 },
 "nbformat": 4,
 "nbformat_minor": 5
}
